{
  "nbformat": 4,
  "nbformat_minor": 0,
  "metadata": {
    "colab": {
      "provenance": [],
      "include_colab_link": true
    },
    "kernelspec": {
      "name": "python3",
      "display_name": "Python 3"
    },
    "language_info": {
      "name": "python"
    }
  },
  "cells": [
    {
      "cell_type": "markdown",
      "metadata": {
        "id": "view-in-github",
        "colab_type": "text"
      },
      "source": [
        "<a href=\"https://colab.research.google.com/github/C0D8/homework_mat_dis/blob/main/LOGIC%2BDISCRETEMATH_CLASS_13.ipynb\" target=\"_parent\"><img src=\"https://colab.research.google.com/assets/colab-badge.svg\" alt=\"Open In Colab\"/></a>"
      ]
    },
    {
      "cell_type": "markdown",
      "source": [
        "<div class=\"alert alert-block alert-info\">\n",
        "\n",
        "#**CLASS 13 - TYPE THEORY - PART III**\n",
        "**Learning Objectives:**\n",
        "* ALGEBRAIC SPECIFICATION OF DATA TYPES\n",
        "* IMPLEMENTATION OF ALGEBRAIC SPECIFICATION\n"
      ],
      "metadata": {
        "id": "33EEpDW7pOaO"
      }
    },
    {
      "cell_type": "markdown",
      "source": [
        "**ALGEBRAIC SPECIFICATION OF DATA TYPES**\n",
        "\n",
        "Algebraic specifications provide a mathematical framework for describing abstract data types (ADT). This framework offers:\n",
        "\n",
        "* language independence,\n",
        "* implementation independence,\n",
        "* specification of required types and operations thereon, and\n",
        "* specification of semantics of operations.\n",
        "\n",
        "The syntatic part of an algebraic specification is called a **presentation**. A presentation if formed by sorts, operations and axioms. Let us consider an algebraic specification of the Nat data type:\n",
        "\n",
        "**SPEC** NAT\n",
        "\n",
        "**SORTS** NAT\n",
        "\n",
        "**OPERATIONS**\n",
        "\n",
        "    new: -> NAT\n",
        "\n",
        "    suc: NAT -> NAT\n",
        "\n",
        "    add: NAT NAT -> NAT\n",
        "\n",
        "**AXIOMS**\n",
        "\n",
        "    add(x,suc(y))=suc(add(x,y)) ∀x,y∈ NAT"
      ],
      "metadata": {
        "id": "bR0VEroxclwf"
      }
    },
    {
      "cell_type": "markdown",
      "source": [
        "In this specification we have three operations:\n",
        "\n",
        "* the creation operation new, which produces a new NAT\n",
        "* the sucessor operation suc(x) = x+1\n",
        "* the add operation add(x,y)=x+y\n",
        "\n",
        "Besides we have an axiom relating the operations add and suc. This axioma states that add(x,suc(y))=x+suc(y)= x+(y+1)= (x+y)+1= suc(x+y)=suc(add(x,y)).\n",
        "\n",
        "Observe that in this specification, we do not know how the operations new, suc and add are implemented. But, following the axiom, we have a rule over suc and add.\n",
        "\n",
        "Let's implement this specification:"
      ],
      "metadata": {
        "id": "qZcasUjp2nTk"
      }
    },
    {
      "cell_type": "code",
      "source": [
        "from dataclasses import dataclass\n",
        "\n",
        "\n",
        "@dataclass\n",
        "class NAT:\n",
        "    \n",
        "    def __init__(self,num):\n",
        "    #operation new   \n",
        "      self.num=num\n",
        "\n",
        "    def suc(nat):\n",
        "      return NAT (nat.num+1)\n",
        "\n",
        "    def add(nat1,nat2):\n",
        "      return NAT (nat1.num+nat2.num)"
      ],
      "metadata": {
        "id": "N93MFTDoc0qZ"
      },
      "execution_count": 1,
      "outputs": []
    },
    {
      "cell_type": "code",
      "source": [
        "x=NAT(2)\n",
        "y=NAT(3)\n",
        "\n",
        "assert NAT.add(x,NAT.suc(y)).num==NAT.suc(NAT.add(x,y)).num"
      ],
      "metadata": {
        "id": "ZTTEo9cs75NA"
      },
      "execution_count": 2,
      "outputs": []
    },
    {
      "cell_type": "markdown",
      "source": [
        "**EXERCISE 1**\n",
        "\n",
        "Provide an algebraic specification for INTEGER and implement it in Python."
      ],
      "metadata": {
        "id": "REGXEDJ5k_g-"
      }
    },
    {
      "cell_type": "code",
      "source": [
        "#IMPLEMENT YOUR CODE HERE\n",
        "\n",
        "# SPEC INT\n",
        "\n",
        "# SORTS INT\n",
        "\n",
        "# OPERATIONS\n",
        "\n",
        "# new: -> INT\n",
        "\n",
        "# suc: INT -> INT\n",
        "\n",
        "# pred: INT -> INT\n",
        "\n",
        "# add: INT -> INT\n",
        "\n",
        "# sub: INT -> INT\n",
        "\n",
        "\n",
        "\n",
        "from dataclasses import dataclass\n",
        "\n",
        "\n",
        "@dataclass\n",
        "class INT:\n",
        "    \n",
        "    def __init__(self,num):\n",
        "    #operation new   \n",
        "      self.num=num\n",
        "\n",
        "    def suc(integer):\n",
        "      return INT (integer.num+1)\n",
        "\n",
        "    def pred(integer):\n",
        "      return INT (integer.num-1)\n",
        "\n",
        "    def add(integer1,integer2):\n",
        "      return INT (integer1.num+integer2.num)\n",
        "\n",
        "    def sub(integer1,integer2):\n",
        "      return INT (integer1.num-integer2.num)\n",
        "\n",
        "\n",
        "x=INT(2)\n",
        "y=INT(-3)\n",
        "\n",
        "assert INT.add(x,INT.suc(y)).num==INT.suc(INT.add(x,y)).num\n",
        "assert INT.sub(x,INT.pred(y)).num==INT.suc(INT.sub(x,y)).num"
      ],
      "metadata": {
        "id": "ctMP4a79lnB4"
      },
      "execution_count": 9,
      "outputs": []
    },
    {
      "cell_type": "markdown",
      "source": [
        "**EXERCISE 2**\n",
        "\n",
        "Provide an algebraic specification for REAL and implement it in Python."
      ],
      "metadata": {
        "id": "J-HiAG7qlwfh"
      }
    },
    {
      "cell_type": "code",
      "source": [
        "@dataclass\n",
        "class REAL:\n",
        "    \n",
        "    def __init__(self,num1,num2):\n",
        "    #operation new   \n",
        "      self.num1=num1\n",
        "      self.num2=num2\n",
        "      self.nums = (num1, num2)\n",
        "\n",
        "    def add(real1,real2):\n",
        "      return REAL (real1.num1*real2.num2+real2.num1*real1.num2, real1.num2*real2.num2)\n",
        "\n",
        "    def sub(real1,real2):\n",
        "      return REAL (real1.num1*real2.num2-real2.num1*real1.num2, real1.num2*real2.num2)\n",
        "\n",
        "real1 = REAL(2,3)\n",
        "real2 = REAL(2,3)\n",
        "\n",
        "res_sub = REAL.sub(real1,real2).nums\n",
        "res_add = REAL.add(real1,real2).nums\n",
        "\n",
        "print(res_sub)\n",
        "print(res_add)\n",
        "\n"
      ],
      "metadata": {
        "id": "rO2F47rRl2Na",
        "outputId": "09e7dae9-4b6c-45cd-c169-e013b6872910",
        "colab": {
          "base_uri": "https://localhost:8080/"
        }
      },
      "execution_count": 15,
      "outputs": [
        {
          "output_type": "stream",
          "name": "stdout",
          "text": [
            "(0, 9)\n",
            "(12, 9)\n"
          ]
        }
      ]
    },
    {
      "cell_type": "markdown",
      "source": [
        "**EXERCISE 3**\n",
        "\n",
        "Provide an algebraic specification for COMPLEX and implement it in Python."
      ],
      "metadata": {
        "id": "E2fSAXmWl38g"
      }
    },
    {
      "cell_type": "code",
      "source": [],
      "metadata": {
        "id": "RJ4AgilzmCP8"
      },
      "execution_count": null,
      "outputs": []
    },
    {
      "cell_type": "markdown",
      "source": [
        "**EXERCISE 4**\n",
        "\n",
        "Provide an algebraic specification for BOOLEAN and implement it in Python."
      ],
      "metadata": {
        "id": "yIWOTR6ymETE"
      }
    },
    {
      "cell_type": "code",
      "source": [
        "@dataclass\n",
        "class BOOLEAN:\n",
        "    \n",
        "    def __init__(self,valor):\n",
        "    #operation new   \n",
        "      self.valor=valor\n",
        "\n",
        "    def not2 (boolean) :\n",
        "      return False if boolean.valor == True else True\n",
        "      \n",
        "    def and2(boolean1, boolean2):\n",
        "      return \n",
        "\n",
        "  \n",
        "\n",
        "boolean = BOOLEAN(True)\n",
        "\n",
        "print(BOOLEAN.not2(boolean))\n",
        "\n",
        "     \n"
      ],
      "metadata": {
        "id": "D1nEFHOUmKCn",
        "outputId": "3c6fa747-f2e7-4825-8b6d-162b73c1f3b8",
        "colab": {
          "base_uri": "https://localhost:8080/"
        }
      },
      "execution_count": 17,
      "outputs": [
        {
          "output_type": "stream",
          "name": "stdout",
          "text": [
            "False\n"
          ]
        }
      ]
    },
    {
      "cell_type": "markdown",
      "source": [
        "**HOMEWORK**"
      ],
      "metadata": {
        "id": "qBO-FfvomdeC"
      }
    },
    {
      "cell_type": "markdown",
      "source": [
        "**EXERCISE 1**\n",
        "\n",
        "Provide an algebraic specification for QUATERNION and implement it in Python."
      ],
      "metadata": {
        "id": "uzgJ4HJVmgeT"
      }
    },
    {
      "cell_type": "code",
      "source": [],
      "metadata": {
        "id": "1HuSpmi2moQD"
      },
      "execution_count": null,
      "outputs": []
    },
    {
      "cell_type": "markdown",
      "source": [
        "**EXERCISE 2**\n",
        "\n",
        "Provide an algebraic specification for CHAR and implement it in Python."
      ],
      "metadata": {
        "id": "ldHOw9Y1mpDX"
      }
    },
    {
      "cell_type": "code",
      "source": [],
      "metadata": {
        "id": "M4upgaM4m39g"
      },
      "execution_count": null,
      "outputs": []
    }
  ]
}